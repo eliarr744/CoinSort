{
 "cells": [
  {
   "cell_type": "code",
   "execution_count": 1,
   "id": "7d67fccd",
   "metadata": {},
   "outputs": [],
   "source": [
    "import cv2\n",
    "import numpy as np"
   ]
  },
  {
   "cell_type": "code",
   "execution_count": 2,
   "id": "44f61f4c",
   "metadata": {},
   "outputs": [],
   "source": [
    "def av_pix(img,circles,size):\n",
    "    av_value = []\n",
    "    for coords in circles[0,:]:\n",
    "        col = np.mean(img[coords[1]-size:coords[1]+size,coords[0]-size:coords[0]+size])\n",
    "        #print(img[coords[1]-size:coords[1]+size,coords[0]-size:coords[0]+size])\n",
    "        av_value.append(col)\n",
    "    return av_value   "
   ]
  },
  {
   "cell_type": "code",
   "execution_count": 3,
   "id": "f5cedafc",
   "metadata": {},
   "outputs": [],
   "source": [
    "def get_radius(circles):\n",
    "    radius = []\n",
    "    for coords in circles[0,:]:\n",
    "        radius.append(coords[2])    \n",
    "    return radius"
   ]
  },
  {
   "cell_type": "code",
   "execution_count": 4,
   "id": "e651310d",
   "metadata": {},
   "outputs": [],
   "source": [
    "img = cv2.imread('coins.png',cv2.IMREAD_GRAYSCALE)\n",
    "original_image = cv2.imread('coins.png',1)\n",
    "img = cv2.GaussianBlur(img, (5,5), 0)"
   ]
  },
  {
   "cell_type": "code",
   "execution_count": 5,
   "id": "06bde5b2",
   "metadata": {},
   "outputs": [
    {
     "name": "stdout",
     "output_type": "stream",
     "text": [
      "[[[1059.5  199.5   96. ]\n",
      "  [1108.5  499.5   99.3]\n",
      "  [1311.5  397.5  103.3]\n",
      "  [ 981.5  365.5   82.7]\n",
      "  [ 763.5  500.5   79.9]\n",
      "  [ 776.5  104.5   83.6]\n",
      "  [ 939.5  580.5   80.7]\n",
      "  [1271.5  219.5   67.3]]]\n"
     ]
    }
   ],
   "source": [
    "circles = cv2.HoughCircles(img,cv2.HOUGH_GRADIENT,0.9,120,param1=50,param2=27,minRadius=60,maxRadius=120)\n",
    "\n",
    "print(circles)"
   ]
  },
  {
   "cell_type": "code",
   "execution_count": 6,
   "id": "f27ac0e5",
   "metadata": {
    "scrolled": true
   },
   "outputs": [],
   "source": [
    "circles = np.uint16(np.around(circles))\n",
    "count = 1\n",
    "for i in circles[0,:]:\n",
    "    \n",
    "    # draw the outer circle\n",
    "    cv2.circle(original_image,(i[0],i[1]),i[2],(0,255,0),2)\n",
    "    # draw the center of the circle\n",
    "    cv2.circle(original_image,(i[0],i[1]),2,(0,0,255),3)\n",
    "    #cv2.putText(original_image, str(count),(i[0],i[1]), cv2.FONT_HERSHEY_SIMPLEX, 2, (0,0,0), 2)\n",
    "    count += 1          "
   ]
  },
  {
   "cell_type": "code",
   "execution_count": 7,
   "id": "0735c055",
   "metadata": {},
   "outputs": [
    {
     "name": "stdout",
     "output_type": "stream",
     "text": [
      "[96, 99, 103, 83, 80, 84, 81, 67]\n"
     ]
    }
   ],
   "source": [
    "radii = get_radius(circles)\n",
    "print(radii)"
   ]
  },
  {
   "cell_type": "code",
   "execution_count": 8,
   "id": "258cf73d",
   "metadata": {},
   "outputs": [
    {
     "name": "stdout",
     "output_type": "stream",
     "text": [
      "[179.844375, 85.68625, 97.176875, 131.384375, 73.96875, 101.205625, 75.08125, 181.275625]\n"
     ]
    }
   ],
   "source": [
    "bright_values = av_pix(img,circles,20)\n",
    "print(bright_values)"
   ]
  },
  {
   "cell_type": "code",
   "execution_count": 9,
   "id": "45174a22",
   "metadata": {},
   "outputs": [
    {
     "name": "stdout",
     "output_type": "stream",
     "text": [
      "[10, 2, 2, 1, 1, 1, 1, 5]\n"
     ]
    }
   ],
   "source": [
    "values = []\n",
    "for a,b in zip(bright_values,radii):\n",
    "    if a > 150 and b > 90:\n",
    "        values.append(10)\n",
    "    elif a > 150 and b <= 90:\n",
    "        values.append(5)\n",
    "    elif a < 150 and b > 90:\n",
    "        values.append(2)\n",
    "    elif a < 150 and b < 90:\n",
    "        values.append(1)        \n",
    "print(values) "
   ]
  },
  {
   "cell_type": "code",
   "execution_count": 10,
   "id": "3f3d1464",
   "metadata": {},
   "outputs": [
    {
     "data": {
      "text/plain": [
       "array([[[159, 148, 147],\n",
       "        [161, 149, 148],\n",
       "        [162, 151, 150],\n",
       "        ...,\n",
       "        [162, 156, 159],\n",
       "        [158, 152, 155],\n",
       "        [155, 151, 154]],\n",
       "\n",
       "       [[158, 147, 145],\n",
       "        [162, 151, 149],\n",
       "        [166, 155, 154],\n",
       "        ...,\n",
       "        [160, 155, 157],\n",
       "        [159, 154, 156],\n",
       "        [155, 150, 152]],\n",
       "\n",
       "       [[168, 158, 154],\n",
       "        [165, 154, 151],\n",
       "        [162, 151, 150],\n",
       "        ...,\n",
       "        [159, 155, 155],\n",
       "        [160, 155, 155],\n",
       "        [154, 150, 149]],\n",
       "\n",
       "       ...,\n",
       "\n",
       "       [[165, 156, 146],\n",
       "        [172, 162, 155],\n",
       "        [170, 160, 156],\n",
       "        ...,\n",
       "        [176, 170, 168],\n",
       "        [180, 173, 173],\n",
       "        [176, 169, 169]],\n",
       "\n",
       "       [[160, 151, 142],\n",
       "        [167, 158, 148],\n",
       "        [172, 161, 156],\n",
       "        ...,\n",
       "        [178, 171, 170],\n",
       "        [172, 166, 165],\n",
       "        [176, 169, 170]],\n",
       "\n",
       "       [[174, 164, 160],\n",
       "        [170, 158, 155],\n",
       "        [172, 158, 155],\n",
       "        ...,\n",
       "        [173, 168, 169],\n",
       "        [172, 168, 168],\n",
       "        [175, 171, 171]]], dtype=uint8)"
      ]
     },
     "execution_count": 10,
     "metadata": {},
     "output_type": "execute_result"
    }
   ],
   "source": [
    "count_2 = 0\n",
    "for i in circles[0,:]:\n",
    "    \n",
    "    cv2.putText(original_image, str(values[count_2]) + 'p',(i[0],i[1]), cv2.FONT_HERSHEY_SIMPLEX, 2, (0,0,0), 2)\n",
    "    count_2 += 1\n",
    "cv2.putText(original_image, 'ESTIMATED TOTAL VALUE: ' + str(sum(values)) + 'p', (200,100), cv2.FONT_HERSHEY_SIMPLEX, 1.3, 255)"
   ]
  },
  {
   "cell_type": "code",
   "execution_count": 11,
   "id": "02b2577c",
   "metadata": {},
   "outputs": [],
   "source": [
    "cv2.imshow('Detected Coins',original_image)\n",
    "cv2.waitKey(0)\n",
    "cv2.destroyAllWindows()"
   ]
  }
 ],
 "metadata": {
  "kernelspec": {
   "display_name": "Python 3 (ipykernel)",
   "language": "python",
   "name": "python3"
  },
  "language_info": {
   "codemirror_mode": {
    "name": "ipython",
    "version": 3
   },
   "file_extension": ".py",
   "mimetype": "text/x-python",
   "name": "python",
   "nbconvert_exporter": "python",
   "pygments_lexer": "ipython3",
   "version": "3.11.5"
  }
 },
 "nbformat": 4,
 "nbformat_minor": 5
}
